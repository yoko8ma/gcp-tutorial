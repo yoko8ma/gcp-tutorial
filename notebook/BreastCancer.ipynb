{
 "cells": [
  {
   "cell_type": "code",
   "execution_count": 9,
   "metadata": {},
   "outputs": [
    {
     "name": "stdout",
     "output_type": "stream",
     "text": [
      "学習精度: 0.9582417582417583\n",
      "予測精度: 0.956140350877193\n"
     ]
    }
   ],
   "source": [
    "import pandas as pd\n",
    "from sklearn import datasets\n",
    "from sklearn.model_selection import train_test_split\n",
    "from sklearn.linear_model import LogisticRegression\n",
    "\n",
    "# 乳がんデータの読込\n",
    "breast_cancer = datasets.load_breast_cancer()\n",
    "\n",
    "# 学習データとテストデータの分割\n",
    "X_train, X_test, y_train, y_test = train_test_split(\n",
    "        breast_cancer.data, breast_cancer.target, test_size=0.2, random_state=0)\n",
    "\n",
    "# ロジスティック回帰モデル\n",
    "# clf(classifier)=分類器\n",
    "clf = LogisticRegression(solver='liblinear')\n",
    "\n",
    "# 学習\n",
    "clf.fit(X_train, y_train)\n",
    "print(F'学習精度: {clf.score(X_train, y_train)}')\n",
    "\n",
    "# 予測\n",
    "y_pred = clf.predict(X_test)\n",
    "print(F'予測精度: {clf.score(X_test, y_test)}')\n"
   ]
  },
  {
   "cell_type": "code",
   "execution_count": 10,
   "metadata": {},
   "outputs": [
    {
     "name": "stdout",
     "output_type": "stream",
     "text": [
      "学習精度: 1.0\n",
      "予測精度: 0.5877192982456141\n"
     ]
    }
   ],
   "source": [
    "from sklearn.svm import SVC\n",
    "\n",
    "# SVCモデル\n",
    "clf = SVC(gamma='auto')\n",
    "\n",
    "# 学習\n",
    "clf.fit(X_train, y_train)\n",
    "print(F'学習精度: {clf.score(X_train, y_train)}')\n",
    "\n",
    "# 予測\n",
    "y_pred = clf.predict(X_test)\n",
    "print(F'予測精度: {clf.score(X_test, y_test)}')\n"
   ]
  },
  {
   "cell_type": "code",
   "execution_count": 6,
   "metadata": {},
   "outputs": [
    {
     "name": "stdout",
     "output_type": "stream",
     "text": [
      "学習精度: 1.0\n"
     ]
    }
   ],
   "source": [
    "from xgboost import XGBClassifier\n",
    "\n",
    "#  モデル\n",
    "clf = XGBClassifier()\n",
    "\n",
    "# 学習\n",
    "clf.fit(X_train, y_train)\n",
    "print(F'学習精度: {clf.score(X_train, y_train)}')\n",
    "\n",
    "# y_pred = clf.predict(X_test)\n",
    "# print(F'予測精度: {clf.score(X_test, y_test)}')"
   ]
  },
  {
   "cell_type": "code",
   "execution_count": null,
   "metadata": {},
   "outputs": [],
   "source": []
  }
 ],
 "metadata": {
  "kernelspec": {
   "display_name": "Python 3",
   "language": "python",
   "name": "python3"
  },
  "language_info": {
   "codemirror_mode": {
    "name": "ipython",
    "version": 3
   },
   "file_extension": ".py",
   "mimetype": "text/x-python",
   "name": "python",
   "nbconvert_exporter": "python",
   "pygments_lexer": "ipython3",
   "version": "3.7.3"
  }
 },
 "nbformat": 4,
 "nbformat_minor": 2
}

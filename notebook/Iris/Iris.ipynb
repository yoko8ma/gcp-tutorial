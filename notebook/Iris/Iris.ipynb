{
 "cells": [
  {
   "cell_type": "code",
   "execution_count": 137,
   "metadata": {},
   "outputs": [],
   "source": [
    "# NumpyのバージョンによってはTensorFlowの読込や実行で警告が出るので非表示にする\n",
    "import warnings\n",
    "warnings.filterwarnings('ignore')\n",
    "\n",
    "# Kerasパッケージの読込\n",
    "from keras.models import Sequential\n",
    "from keras.layers import Dense, Activation"
   ]
  },
  {
   "cell_type": "code",
   "execution_count": 138,
   "metadata": {},
   "outputs": [
    {
     "name": "stdout",
     "output_type": "stream",
     "text": [
      "[[5.1 3.5 1.4 0.2]\n",
      " [4.9 3.  1.4 0.2]\n",
      " [4.7 3.2 1.3 0.2]\n",
      " [4.6 3.1 1.5 0.2]\n",
      " [5.  3.6 1.4 0.2]\n",
      " [5.4 3.9 1.7 0.4]\n",
      " [4.6 3.4 1.4 0.3]\n",
      " [5.  3.4 1.5 0.2]\n",
      " [4.4 2.9 1.4 0.2]\n",
      " [4.9 3.1 1.5 0.1]]\n",
      "[0 0 0 0 0 0 0 0 0 0]\n"
     ]
    }
   ],
   "source": [
    "# Keras(TensorFlow)を使ってscikit-learnに入っているアヤメデータを分類する\n",
    "from sklearn import datasets\n",
    "\n",
    "# データの読込\n",
    "iris = datasets.load_iris()\n",
    "\n",
    "# 特徴量の一部表示\n",
    "print(iris.data[:10])\n",
    "\n",
    "# ラベルの一部表示\n",
    "print(iris.target[:10])"
   ]
  },
  {
   "cell_type": "code",
   "execution_count": 139,
   "metadata": {},
   "outputs": [
    {
     "name": "stdout",
     "output_type": "stream",
     "text": [
      "[[-0.90068117  1.01900435 -1.34022653 -1.3154443 ]\n",
      " [-1.14301691 -0.13197948 -1.34022653 -1.3154443 ]\n",
      " [-1.38535265  0.32841405 -1.39706395 -1.3154443 ]\n",
      " [-1.50652052  0.09821729 -1.2833891  -1.3154443 ]\n",
      " [-1.02184904  1.24920112 -1.34022653 -1.3154443 ]\n",
      " [-0.53717756  1.93979142 -1.16971425 -1.05217993]\n",
      " [-1.50652052  0.78880759 -1.34022653 -1.18381211]\n",
      " [-1.02184904  0.78880759 -1.2833891  -1.3154443 ]\n",
      " [-1.74885626 -0.36217625 -1.34022653 -1.3154443 ]\n",
      " [-1.14301691  0.09821729 -1.2833891  -1.44707648]]\n",
      "[[1. 0. 0.]\n",
      " [1. 0. 0.]\n",
      " [1. 0. 0.]\n",
      " [1. 0. 0.]\n",
      " [1. 0. 0.]\n",
      " [1. 0. 0.]\n",
      " [1. 0. 0.]\n",
      " [1. 0. 0.]\n",
      " [1. 0. 0.]\n",
      " [1. 0. 0.]]\n"
     ]
    }
   ],
   "source": [
    "# ニューラルネットワークで使いやすいようにデータを整形する\n",
    "from sklearn.preprocessing import StandardScaler\n",
    "from keras.utils import np_utils\n",
    "\n",
    "# 特徴量の標準化\n",
    "scaler = StandardScaler()\n",
    "scaler.fit(iris.data)\n",
    "X = scaler.transform(iris.data)\n",
    "print(X[:10])\n",
    "\n",
    "# ラベルが3種類のカテゴリカルデータなのでone-hotに変換する\n",
    "# 0 -> [1, 0, 0]\n",
    "# 1 -> [0, 1, 0]\n",
    "# 2-> [0, 0, 1]\n",
    "y = np_utils.to_categorical( iris.target)\n",
    "print(y[:10])"
   ]
  },
  {
   "cell_type": "code",
   "execution_count": 140,
   "metadata": {},
   "outputs": [],
   "source": [
    "# 学習データとテストデータへの振分\n",
    "from sklearn.model_selection import train_test_split\n",
    "\n",
    "# X_train: 特徴量の学習データ\n",
    "# X_test: 特徴量のテストデータ\n",
    "# y_train: ラベルの学習データ\n",
    "# y_test: ラベルのテストデータ\n",
    "# train_size=0.8: 80%を学習データ、20%をテストデータに振り分ける\n",
    "# random_state=0: いつも同じ振分結果になるように固定値をセットする\n",
    "X_train, X_test, y_train, y_test = train_test_split(X, y, train_size=0.8, random_state=0)"
   ]
  },
  {
   "cell_type": "code",
   "execution_count": 141,
   "metadata": {},
   "outputs": [],
   "source": [
    "# モデルの構築\n",
    "model = Sequential()\n",
    "model.add(Dense(16, input_dim=4)) # 特徴量の次元が4なので、入力4次元、出力16次元の隠れ層を全結合(Dense)させる\n",
    "model.add(Activation('relu')) # 活性化関数(ReLU)を追加する\n",
    "model.add(Dense(3)) # 出力は3次元で全結合(Dense)させる\n",
    "model.add(Activation('softmax')) # 多クラス分類用の活性化関数(ソフトマックス)を追加する\n",
    "model.compile(optimizer='adam',loss='categorical_crossentropy',metrics=['accuracy']) # モデルのコンパイル。損失関数はラベル値が0,1のカテゴリカルデータ向け"
   ]
  },
  {
   "cell_type": "code",
   "execution_count": 142,
   "metadata": {},
   "outputs": [
    {
     "name": "stdout",
     "output_type": "stream",
     "text": [
      "Epoch 1/20\n",
      "120/120 [==============================] - 3s 22ms/step - loss: 0.9623 - acc: 0.6000\n",
      "Epoch 2/20\n",
      "120/120 [==============================] - 0s 3ms/step - loss: 0.6764 - acc: 0.8333\n",
      "Epoch 3/20\n",
      "120/120 [==============================] - 0s 2ms/step - loss: 0.5159 - acc: 0.8500\n",
      "Epoch 4/20\n",
      "120/120 [==============================] - 0s 2ms/step - loss: 0.4326 - acc: 0.8500\n",
      "Epoch 5/20\n",
      "120/120 [==============================] - 0s 2ms/step - loss: 0.3846 - acc: 0.8667\n",
      "Epoch 6/20\n",
      "120/120 [==============================] - 0s 2ms/step - loss: 0.3512 - acc: 0.8583\n",
      "Epoch 7/20\n",
      "120/120 [==============================] - 0s 2ms/step - loss: 0.3269 - acc: 0.8667\n",
      "Epoch 8/20\n",
      "120/120 [==============================] - 0s 2ms/step - loss: 0.3094 - acc: 0.8667\n",
      "Epoch 9/20\n",
      "120/120 [==============================] - 0s 2ms/step - loss: 0.2917 - acc: 0.8750\n",
      "Epoch 10/20\n",
      "120/120 [==============================] - 0s 2ms/step - loss: 0.2768 - acc: 0.8750\n",
      "Epoch 11/20\n",
      "120/120 [==============================] - 0s 2ms/step - loss: 0.2646 - acc: 0.8750\n",
      "Epoch 12/20\n",
      "120/120 [==============================] - 0s 2ms/step - loss: 0.2520 - acc: 0.8917\n",
      "Epoch 13/20\n",
      "120/120 [==============================] - 0s 2ms/step - loss: 0.2420 - acc: 0.9000\n",
      "Epoch 14/20\n",
      "120/120 [==============================] - 0s 2ms/step - loss: 0.2311 - acc: 0.8917\n",
      "Epoch 15/20\n",
      "120/120 [==============================] - 0s 3ms/step - loss: 0.2212 - acc: 0.9000A: 0s - loss: 0.2331 - acc: 0.\n",
      "Epoch 16/20\n",
      "120/120 [==============================] - 0s 3ms/step - loss: 0.2101 - acc: 0.9083\n",
      "Epoch 17/20\n",
      "120/120 [==============================] - 0s 3ms/step - loss: 0.2005 - acc: 0.9333\n",
      "Epoch 18/20\n",
      "120/120 [==============================] - 0s 4ms/step - loss: 0.1931 - acc: 0.9250\n",
      "Epoch 19/20\n",
      "120/120 [==============================] - 0s 3ms/step - loss: 0.1847 - acc: 0.9333\n",
      "Epoch 20/20\n",
      "120/120 [==============================] - 0s 2ms/step - loss: 0.1751 - acc: 0.9333\n"
     ]
    },
    {
     "data": {
      "text/plain": [
       "<keras.callbacks.History at 0x12bffaed0>"
      ]
     },
     "execution_count": 142,
     "metadata": {},
     "output_type": "execute_result"
    }
   ],
   "source": [
    "# 学習\n",
    "model.fit(X_train, y_train, nb_epoch=20, batch_size=1)"
   ]
  },
  {
   "cell_type": "code",
   "execution_count": 143,
   "metadata": {},
   "outputs": [
    {
     "data": {
      "text/plain": [
       "array([[3.3500438e-04, 7.1529128e-02, 9.2813587e-01],\n",
       "       [5.6909508e-04, 9.5753270e-01, 4.1898139e-02],\n",
       "       [9.9964356e-01, 3.2029892e-04, 3.6151003e-05],\n",
       "       [1.2533847e-04, 8.3173320e-02, 9.1670132e-01],\n",
       "       [9.9867249e-01, 1.1883706e-03, 1.3918744e-04],\n",
       "       [4.6743275e-04, 3.1902362e-02, 9.6763021e-01],\n",
       "       [9.9899894e-01, 9.0730551e-04, 9.3774339e-05],\n",
       "       [6.9323350e-03, 4.9812594e-01, 4.9494177e-01],\n",
       "       [1.6147026e-03, 5.5421126e-01, 4.4417402e-01],\n",
       "       [7.6724030e-03, 8.3218682e-01, 1.6014086e-01],\n",
       "       [1.2237403e-03, 3.6382580e-01, 6.3495052e-01],\n",
       "       [2.2952611e-02, 6.1213630e-01, 3.6491111e-01],\n",
       "       [7.7920174e-03, 7.0557195e-01, 2.8663597e-01],\n",
       "       [2.2620908e-03, 5.3454047e-01, 4.6319744e-01],\n",
       "       [8.6098621e-03, 5.6023788e-01, 4.3115225e-01],\n",
       "       [9.9957687e-01, 3.7298221e-04, 5.0187824e-05],\n",
       "       [9.2624677e-03, 5.8946598e-01, 4.0127149e-01],\n",
       "       [8.1633218e-03, 8.9619535e-01, 9.5641330e-02],\n",
       "       [9.9282289e-01, 6.8056928e-03, 3.7145012e-04],\n",
       "       [9.9921930e-01, 6.9570920e-04, 8.4923136e-05],\n",
       "       [2.3479722e-03, 2.4535838e-01, 7.5229365e-01],\n",
       "       [3.9705899e-02, 6.8967593e-01, 2.7061826e-01],\n",
       "       [9.9863750e-01, 1.2104471e-03, 1.5199631e-04],\n",
       "       [9.9545938e-01, 4.3526446e-03, 1.8798484e-04],\n",
       "       [1.4919322e-03, 3.0295068e-01, 6.9555736e-01],\n",
       "       [9.9980837e-01, 1.7473538e-04, 1.6891470e-05],\n",
       "       [9.9871290e-01, 1.1446488e-03, 1.4251511e-04],\n",
       "       [1.0285110e-02, 7.3303080e-01, 2.5668409e-01],\n",
       "       [1.4327338e-02, 9.6242291e-01, 2.3249790e-02],\n",
       "       [9.9766660e-01, 2.1173791e-03, 2.1611173e-04]], dtype=float32)"
      ]
     },
     "execution_count": 143,
     "metadata": {},
     "output_type": "execute_result"
    }
   ],
   "source": [
    "# 予測\n",
    "model.predict(X_test, batch_size=10)"
   ]
  },
  {
   "cell_type": "code",
   "execution_count": 144,
   "metadata": {},
   "outputs": [
    {
     "name": "stdout",
     "output_type": "stream",
     "text": [
      "30/30 [==============================] - 0s 10ms/step\n",
      "0.20783966779708862 1.0\n"
     ]
    }
   ],
   "source": [
    "# 評価\n",
    "loss, accuracy = model.evaluate(X_test, y_test)\n",
    "print(loss, accuracy)"
   ]
  },
  {
   "cell_type": "code",
   "execution_count": 145,
   "metadata": {},
   "outputs": [],
   "source": [
    "import pickle\n",
    "\n",
    "# 標準化オブジェクトの保存\n",
    "with open(\"./scaler.pkl\", 'wb') as f:\n",
    "    pickle.dump(scaler, f)\n",
    "\n",
    "# 学習済みモデルの保存\n",
    "model.save('model.h5', include_optimizer=False)\n",
    "\n",
    "# with open(\"./model.pkl\", 'wb') as f:\n",
    "#     pickle.dump(model, f)"
   ]
  }
 ],
 "metadata": {
  "kernelspec": {
   "display_name": "Python 3",
   "language": "python",
   "name": "python3"
  },
  "language_info": {
   "codemirror_mode": {
    "name": "ipython",
    "version": 3
   },
   "file_extension": ".py",
   "mimetype": "text/x-python",
   "name": "python",
   "nbconvert_exporter": "python",
   "pygments_lexer": "ipython3",
   "version": "3.7.4"
  }
 },
 "nbformat": 4,
 "nbformat_minor": 2
}

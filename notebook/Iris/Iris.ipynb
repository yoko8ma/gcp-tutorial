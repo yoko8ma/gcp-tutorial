{
 "cells": [
  {
   "cell_type": "code",
   "execution_count": 123,
   "metadata": {},
   "outputs": [
    {
     "name": "stdout",
     "output_type": "stream",
     "text": [
      "[[5.1 3.5 1.4 0.2]\n",
      " [4.9 3.  1.4 0.2]\n",
      " [4.7 3.2 1.3 0.2]\n",
      " [4.6 3.1 1.5 0.2]\n",
      " [5.  3.6 1.4 0.2]\n",
      " [5.4 3.9 1.7 0.4]\n",
      " [4.6 3.4 1.4 0.3]\n",
      " [5.  3.4 1.5 0.2]\n",
      " [4.4 2.9 1.4 0.2]\n",
      " [4.9 3.1 1.5 0.1]]\n",
      "[0 0 0 0 0 0 0 0 0 0]\n"
     ]
    }
   ],
   "source": [
    "# Keras(TensorFlow)を使ってscikit-learnに入っているアヤメデータを分類する\n",
    "from sklearn import datasets\n",
    "\n",
    "# データの読込\n",
    "iris = datasets.load_iris()\n",
    "\n",
    "# 特徴量の一部表示\n",
    "print(iris.data[:10])\n",
    "\n",
    "# ラベルの一部表示\n",
    "print(iris.target[:10])"
   ]
  },
  {
   "cell_type": "code",
   "execution_count": 104,
   "metadata": {},
   "outputs": [],
   "source": [
    "# ニューラルネットワークで使いやすいようにデータを整形する\n",
    "from sklearn import preprocessing\n",
    "\n",
    "# 特徴量の標準化\n",
    "X = preprocessing.scale(iris.data)\n",
    "\n",
    "# ラベルが3種類のカテゴリカルデータなのでone-hotに変換する\n",
    "# 0 -> [1, 0, 0]\n",
    "# 1 -> [0, 1, 0]\n",
    "# 2-> [0, 0, 1]\n",
    "y = np_utils.to_categorical( iris.target)"
   ]
  },
  {
   "cell_type": "code",
   "execution_count": 105,
   "metadata": {},
   "outputs": [],
   "source": [
    "# 学習データとテストデータへの振分\n",
    "from sklearn.model_selection import train_test_split\n",
    "\n",
    "# X_train: 特徴量の学習データ\n",
    "# X_test: 特徴量のテストデータ\n",
    "# y_train: ラベルの学習データ\n",
    "# y_test: ラベルのテストデータ\n",
    "# train_size=0.8: 80%を学習データ、20%をテストデータに振り分ける\n",
    "# random_state=0: いつも同じ振分結果になるように固定値をセットする\n",
    "X_train, X_test, y_train, y_test = train_test_split(X, y, train_size=0.8, random_state=0)"
   ]
  },
  {
   "cell_type": "code",
   "execution_count": 106,
   "metadata": {},
   "outputs": [],
   "source": [
    "# NumpyのバージョンによってはTensorFlowの読込や実行で警告が出るので非表示にする\n",
    "import warnings\n",
    "warnings.filterwarnings('ignore')\n",
    "\n",
    "# Kerasパッケージの読込\n",
    "from keras.models import Sequential\n",
    "from keras.layers import Dense, Activation"
   ]
  },
  {
   "cell_type": "code",
   "execution_count": 126,
   "metadata": {},
   "outputs": [],
   "source": [
    "# モデルの構築\n",
    "model = Sequential()\n",
    "model.add(Dense(16, input_dim=4)) # 特徴量の次元が4なので、入力4次元、出力16次元の隠れ層を全結合(Dense)させる\n",
    "model.add(Activation('relu')) # 活性化関数(ReLU)を追加する\n",
    "model.add(Dense(3)) # 出力は3次元で全結合(Dense)させる\n",
    "model.add(Activation('softmax')) # 多クラス分類用の活性化関数(ソフトマックス)を追加する\n",
    "model.compile(optimizer='adam',loss='categorical_crossentropy',metrics=['accuracy']) # モデルのコンパイル。損失関数はラベル値が0,1のカテゴリカルデータ向け"
   ]
  },
  {
   "cell_type": "code",
   "execution_count": 127,
   "metadata": {},
   "outputs": [
    {
     "name": "stdout",
     "output_type": "stream",
     "text": [
      "Epoch 1/20\n",
      "120/120 [==============================] - 1s 9ms/step - loss: 1.0495 - acc: 0.4833\n",
      "Epoch 2/20\n",
      "120/120 [==============================] - 0s 2ms/step - loss: 0.8048 - acc: 0.7250\n",
      "Epoch 3/20\n",
      "120/120 [==============================] - 0s 2ms/step - loss: 0.6308 - acc: 0.8250\n",
      "Epoch 4/20\n",
      "120/120 [==============================] - 0s 2ms/step - loss: 0.4956 - acc: 0.8583\n",
      "Epoch 5/20\n",
      "120/120 [==============================] - 0s 2ms/step - loss: 0.4102 - acc: 0.8750\n",
      "Epoch 6/20\n",
      "120/120 [==============================] - 0s 2ms/step - loss: 0.3535 - acc: 0.8750\n",
      "Epoch 7/20\n",
      "120/120 [==============================] - 0s 2ms/step - loss: 0.3192 - acc: 0.8833\n",
      "Epoch 8/20\n",
      "120/120 [==============================] - 0s 2ms/step - loss: 0.2939 - acc: 0.8833\n",
      "Epoch 9/20\n",
      "120/120 [==============================] - 0s 2ms/step - loss: 0.2737 - acc: 0.8833\n",
      "Epoch 10/20\n",
      "120/120 [==============================] - 0s 3ms/step - loss: 0.2555 - acc: 0.8833\n",
      "Epoch 11/20\n",
      "120/120 [==============================] - 0s 2ms/step - loss: 0.2405 - acc: 0.9250\n",
      "Epoch 12/20\n",
      "120/120 [==============================] - 0s 2ms/step - loss: 0.2279 - acc: 0.9167\n",
      "Epoch 13/20\n",
      "120/120 [==============================] - 0s 2ms/step - loss: 0.2126 - acc: 0.9250\n",
      "Epoch 14/20\n",
      "120/120 [==============================] - 0s 2ms/step - loss: 0.2010 - acc: 0.9417\n",
      "Epoch 15/20\n",
      "120/120 [==============================] - 0s 2ms/step - loss: 0.1899 - acc: 0.9417\n",
      "Epoch 16/20\n",
      "120/120 [==============================] - 0s 2ms/step - loss: 0.1792 - acc: 0.9417\n",
      "Epoch 17/20\n",
      "120/120 [==============================] - 0s 2ms/step - loss: 0.1694 - acc: 0.9333\n",
      "Epoch 18/20\n",
      "120/120 [==============================] - 0s 2ms/step - loss: 0.1619 - acc: 0.9500\n",
      "Epoch 19/20\n",
      "120/120 [==============================] - 0s 2ms/step - loss: 0.1520 - acc: 0.9583\n",
      "Epoch 20/20\n",
      "120/120 [==============================] - 0s 2ms/step - loss: 0.1433 - acc: 0.9583\n"
     ]
    },
    {
     "data": {
      "text/plain": [
       "<keras.callbacks.History at 0x12ffdc710>"
      ]
     },
     "execution_count": 127,
     "metadata": {},
     "output_type": "execute_result"
    }
   ],
   "source": [
    "# 学習\n",
    "model.fit(X_train, y_train, nb_epoch=20, batch_size=1)"
   ]
  },
  {
   "cell_type": "code",
   "execution_count": 128,
   "metadata": {},
   "outputs": [
    {
     "data": {
      "text/plain": [
       "array([[5.16619366e-06, 1.70371942e-02, 9.82957661e-01],\n",
       "       [6.39989506e-04, 9.76348341e-01, 2.30116360e-02],\n",
       "       [9.98062432e-01, 1.91831100e-03, 1.92797997e-05],\n",
       "       [2.33063874e-05, 6.46174550e-02, 9.35359180e-01],\n",
       "       [9.94467854e-01, 5.39222639e-03, 1.39892989e-04],\n",
       "       [5.71700230e-06, 7.15787290e-03, 9.92836416e-01],\n",
       "       [9.96603370e-01, 3.29540600e-03, 1.01204263e-04],\n",
       "       [5.54080820e-03, 5.81701577e-01, 4.12757605e-01],\n",
       "       [1.37492944e-03, 6.86318099e-01, 3.12307030e-01],\n",
       "       [5.92854293e-03, 8.60827029e-01, 1.33244425e-01],\n",
       "       [3.22318461e-04, 4.73710597e-01, 5.25967062e-01],\n",
       "       [1.73545517e-02, 6.59156322e-01, 3.23489100e-01],\n",
       "       [4.26962133e-03, 8.13911259e-01, 1.81819156e-01],\n",
       "       [1.33940752e-03, 6.02397263e-01, 3.96263272e-01],\n",
       "       [3.68486135e-03, 6.35902405e-01, 3.60412776e-01],\n",
       "       [9.97699678e-01, 2.25417223e-03, 4.61280360e-05],\n",
       "       [3.38304206e-03, 5.88365018e-01, 4.08251971e-01],\n",
       "       [3.48218204e-03, 8.85940731e-01, 1.10577062e-01],\n",
       "       [9.80497718e-01, 1.90805625e-02, 4.21686273e-04],\n",
       "       [9.96945798e-01, 2.99219508e-03, 6.20269202e-05],\n",
       "       [1.00191784e-04, 9.80475619e-02, 9.01852190e-01],\n",
       "       [1.13304304e-02, 6.79141879e-01, 3.09527636e-01],\n",
       "       [9.93369043e-01, 6.48569874e-03, 1.45294296e-04],\n",
       "       [9.84035015e-01, 1.57174878e-02, 2.47570919e-04],\n",
       "       [2.68527394e-04, 2.27187082e-01, 7.72544444e-01],\n",
       "       [9.98870671e-01, 1.10905047e-03, 2.02256433e-05],\n",
       "       [9.95716512e-01, 4.20635333e-03, 7.71287305e-05],\n",
       "       [7.53137795e-03, 8.14474761e-01, 1.77993789e-01],\n",
       "       [1.97691713e-02, 9.52331722e-01, 2.78991330e-02],\n",
       "       [9.93100882e-01, 6.68139523e-03, 2.17693610e-04]], dtype=float32)"
      ]
     },
     "execution_count": 128,
     "metadata": {},
     "output_type": "execute_result"
    }
   ],
   "source": [
    "# 予測\n",
    "model.predict(X_test, batch_size=10)"
   ]
  },
  {
   "cell_type": "code",
   "execution_count": 129,
   "metadata": {},
   "outputs": [
    {
     "name": "stdout",
     "output_type": "stream",
     "text": [
      "30/30 [==============================] - 0s 10ms/step\n",
      "0.17109589278697968 1.0\n"
     ]
    }
   ],
   "source": [
    "# 評価\n",
    "loss, accuracy = model.evaluate(X_test, y_test)\n",
    "print(loss, accuracy)"
   ]
  },
  {
   "cell_type": "code",
   "execution_count": null,
   "metadata": {},
   "outputs": [],
   "source": []
  }
 ],
 "metadata": {
  "kernelspec": {
   "display_name": "Python 3",
   "language": "python",
   "name": "python3"
  },
  "language_info": {
   "codemirror_mode": {
    "name": "ipython",
    "version": 3
   },
   "file_extension": ".py",
   "mimetype": "text/x-python",
   "name": "python",
   "nbconvert_exporter": "python",
   "pygments_lexer": "ipython3",
   "version": "3.7.4"
  }
 },
 "nbformat": 4,
 "nbformat_minor": 2
}
